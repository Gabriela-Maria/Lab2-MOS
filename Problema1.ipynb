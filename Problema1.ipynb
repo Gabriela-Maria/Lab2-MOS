{
 "cells": [
  {
   "cell_type": "markdown",
   "metadata": {},
   "source": [
    "# loaojdsojs"
   ]
  },
  {
   "cell_type": "markdown",
   "metadata": {},
   "source": [
    "## 1. Conjuntos\n",
    "## 2. Parámetros\n",
    "## 3. Variables de decisión\n",
    "## 4. Función objetivo\n",
    "## 5. Restricciones\n",
    "## 6. Tipo de problema"
   ]
  },
  {
   "cell_type": "code",
   "execution_count": 2,
   "metadata": {},
   "outputs": [
    {
     "name": "stdout",
     "output_type": "stream",
     "text": [
      "Model unknown\n",
      "\n",
      "  Variables:\n",
      "    x : Size=15, Index=[1:5]*[1:3]\n",
      "        Key    : Lower : Value : Upper : Fixed : Stale : Domain\n",
      "        (1, 1) :     0 :   0.0 :     1 : False : False : Binary\n",
      "        (1, 2) :     0 :   1.0 :     1 : False : False : Binary\n",
      "        (1, 3) :     0 :   1.0 :     1 : False : False : Binary\n",
      "        (2, 1) :     0 :   0.0 :     1 : False : False : Binary\n",
      "        (2, 2) :     0 :   1.0 :     1 : False : False : Binary\n",
      "        (2, 3) :     0 :   1.0 :     1 : False : False : Binary\n",
      "        (3, 1) :     0 :   1.0 :     1 : False : False : Binary\n",
      "        (3, 2) :     0 :   1.0 :     1 : False : False : Binary\n",
      "        (3, 3) :     0 :   1.0 :     1 : False : False : Binary\n",
      "        (4, 1) :     0 :   0.0 :     1 : False : False : Binary\n",
      "        (4, 2) :     0 :   0.0 :     1 : False : False : Binary\n",
      "        (4, 3) :     0 :   0.0 :     1 : False : False : Binary\n",
      "        (5, 1) :     0 :   1.0 :     1 : False : False : Binary\n",
      "        (5, 2) :     0 :   0.0 :     1 : False : False : Binary\n",
      "        (5, 3) :     0 :   1.0 :     1 : False : False : Binary\n",
      "\n",
      "  Objectives:\n",
      "    obj : Size=1, Index=None, Active=True\n",
      "        Key  : Active : Value\n",
      "        None :   True : 740.0\n",
      "\n",
      "  Constraints:\n",
      "    rest1 : Size=1\n",
      "        Key  : Lower : Body : Upper\n",
      "        None :   0.0 :  0.0 :   0.0\n",
      "    rest2 : Size=3\n",
      "        Key : Lower : Body : Upper\n",
      "          1 :  None :  1.0 :   1.0\n",
      "          2 :  None :  1.0 :   1.0\n",
      "          3 :  None :  1.0 :   1.0\n",
      "    rest3 : Size=3\n",
      "        Key : Lower : Body : Upper\n",
      "          1 :  None : 30.0 :  30.0\n",
      "          2 :  None : 40.0 :  40.0\n",
      "          3 :  None : 50.0 :  50.0\n",
      "    rest4 : Size=3\n",
      "        Key : Lower : Body : Upper\n",
      "          1 :  None : 16.0 :  25.0\n",
      "          2 :  None : 20.0 :  30.0\n",
      "          3 :  None : 26.0 :  35.0\n"
     ]
    }
   ],
   "source": [
    "\n",
    "from __future__ import division\n",
    "from pyomo.environ import *\n",
    "\n",
    "from pyomo.opt import SolverFactory\n",
    "\n",
    "Model = ConcreteModel()\n",
    "\n",
    "# Data de entrada\n",
    "numRecursos=5\n",
    "\n",
    "numAviones=3\n",
    "capacidad = 13 #capacidad por desarrollador\n",
    "\n",
    "# Conjuntos\n",
    "R=RangeSet(1, numRecursos)\n",
    "A=RangeSet(1,numAviones)\n",
    " \n",
    "# Parámetros\n",
    "recursos = {\n",
    "    1: {\"valor\": 50, \"peso\": 15, \"volumen\": 8},\n",
    "    2: {\"valor\": 100, \"peso\": 5, \"volumen\": 2},\n",
    "    3: {\"valor\": 120, \"peso\": 20, \"volumen\": 10},\n",
    "    4: {\"valor\": 60, \"peso\": 18, \"volumen\": 12},\n",
    "    5: {\"valor\": 40, \"peso\": 10, \"volumen\": 6},\n",
    "}\n",
    "\n",
    "aviones= {\n",
    "    1: {\"capPeso\": 30, \"capVolumen\": 25},\n",
    "    2: {\"capPeso\": 40, \"capVolumen\": 30},\n",
    "    3: {\"capPeso\": 50, \"capVolumen\": 35}\n",
    "}\n",
    "\n",
    "# Variable de decisión\n",
    "Model.x = Var(R, A, domain=Binary)\n",
    "\n",
    "# Función objetivo\n",
    "Model.obj = Objective(expr = sum(Model.x[i, j]*recursos[i][\"valor\"] for i in R for j in A), sense=maximize)\n",
    "\n",
    "# Restricciones\n",
    "#1 - Seguridad de medicamentos \n",
    "Model.rest1 = Constraint(expr = (Model.x[2,1]) == 0)\n",
    "\n",
    "#2 - compatibilidad entre equipos medicos y agua\n",
    "Model.rest2 = ConstraintList()\n",
    "for j in A:\n",
    "    Model.rest2.add(expr = (Model.x[3,j]+ Model.x[4,j]) <= 1)\n",
    "\n",
    "#3 - Capacidad de peso en aviones\n",
    "Model.rest3 = ConstraintList()\n",
    "for j in A:\n",
    "    Model.rest3.add(expr = sum(Model.x[i,j]*recursos[i][\"peso\"] for i in R) <= aviones[j][\"capPeso\"])\n",
    "\n",
    "#4 - Capacidad de volumen en aviones\n",
    "Model.rest4 = ConstraintList()\n",
    "for j in A:\n",
    "    Model.rest4.add(expr = sum(Model.x[i,j]*recursos[i][\"volumen\"] for i in R) <= aviones[j][\"capVolumen\"])\n",
    "\n",
    "\n",
    "# Especificación del solver\n",
    "SolverFactory('glpk').solve(Model)\n",
    "\n",
    "Model.display()\n",
    "\n"
   ]
  },
  {
   "cell_type": "markdown",
   "metadata": {},
   "source": [
    "# Laboratorio 2 "
   ]
  }
 ],
 "metadata": {
  "kernelspec": {
   "display_name": "pyomo_env",
   "language": "python",
   "name": "python3"
  },
  "language_info": {
   "codemirror_mode": {
    "name": "ipython",
    "version": 3
   },
   "file_extension": ".py",
   "mimetype": "text/x-python",
   "name": "python",
   "nbconvert_exporter": "python",
   "pygments_lexer": "ipython3",
   "version": "3.9.21"
  }
 },
 "nbformat": 4,
 "nbformat_minor": 2
}
