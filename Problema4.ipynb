{
 "cells": [
  {
   "cell_type": "markdown",
   "metadata": {},
   "source": [
    "## 1. Conjuntos\n",
    "N de los nodos del grafo\n",
    "## 2. Parámetros\n",
    "Una matriz de las distancias entre el nodo i,j, índices que hacen parte de N.\n",
    "## 3. Variables de decisión\n",
    "Xij binaria, donde indica que el camino entre i y j fue seleccionado como parte del camino mínimo\n",
    "## 4. Función objetivo\n",
    "Minimizar la distancia del camino entre el nodo 4 y 6.\n",
    "## 5. Restricciones\n",
    "## 6. Tipo de problema"
   ]
  }
 ],
 "metadata": {
  "language_info": {
   "name": "python"
  }
 },
 "nbformat": 4,
 "nbformat_minor": 2
}
